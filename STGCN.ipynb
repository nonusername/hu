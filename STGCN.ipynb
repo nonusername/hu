{
  "nbformat": 4,
  "nbformat_minor": 0,
  "metadata": {
    "colab": {
      "name": "STGCN.ipynb",
      "provenance": [],
      "authorship_tag": "ABX9TyMFPMG4LWun4j73rgLHUeiO",
      "include_colab_link": true
    },
    "kernelspec": {
      "name": "python3",
      "display_name": "Python 3"
    },
    "accelerator": "GPU"
  },
  "cells": [
    {
      "cell_type": "markdown",
      "metadata": {
        "id": "view-in-github",
        "colab_type": "text"
      },
      "source": [
        "<a href=\"https://colab.research.google.com/github/nonusername/hu/blob/master/STGCN.ipynb\" target=\"_parent\"><img src=\"https://colab.research.google.com/assets/colab-badge.svg\" alt=\"Open In Colab\"/></a>"
      ]
    },
    {
      "cell_type": "code",
      "metadata": {
        "id": "DnU2g-2xcGx3",
        "colab_type": "code",
        "colab": {
          "base_uri": "https://localhost:8080/",
          "height": 107
        },
        "outputId": "16d5c065-ad82-4fd3-c365-5fc5f0611ee6"
      },
      "source": [
        "!git clone https://github.com/yysijie/st-gcn.git; "
      ],
      "execution_count": 1,
      "outputs": [
        {
          "output_type": "stream",
          "text": [
            "Cloning into 'st-gcn'...\n",
            "remote: Enumerating objects: 1523, done.\u001b[K\n",
            "remote: Total 1523 (delta 0), reused 0 (delta 0), pack-reused 1523\u001b[K\n",
            "Receiving objects: 100% (1523/1523), 57.17 MiB | 34.13 MiB/s, done.\n",
            "Resolving deltas: 100% (779/779), done.\n"
          ],
          "name": "stdout"
        }
      ]
    },
    {
      "cell_type": "code",
      "metadata": {
        "id": "dg47HlU_cUXv",
        "colab_type": "code",
        "colab": {
          "base_uri": "https://localhost:8080/",
          "height": 35
        },
        "outputId": "3d34bc42-a69a-4ca7-dfb4-2e04e6900023"
      },
      "source": [
        "cd st-gcn"
      ],
      "execution_count": 2,
      "outputs": [
        {
          "output_type": "stream",
          "text": [
            "/content/st-gcn\n"
          ],
          "name": "stdout"
        }
      ]
    },
    {
      "cell_type": "code",
      "metadata": {
        "id": "9Gs6ze-7cXSe",
        "colab_type": "code",
        "colab": {
          "base_uri": "https://localhost:8080/",
          "height": 35
        },
        "outputId": "777fbd38-1893-4046-d276-38440cc2f5b5"
      },
      "source": [
        "cd torchlight"
      ],
      "execution_count": 3,
      "outputs": [
        {
          "output_type": "stream",
          "text": [
            "/content/st-gcn/torchlight\n"
          ],
          "name": "stdout"
        }
      ]
    },
    {
      "cell_type": "code",
      "metadata": {
        "id": "Elk_ycvscYMc",
        "colab_type": "code",
        "colab": {
          "base_uri": "https://localhost:8080/",
          "height": 811
        },
        "outputId": "47fb9309-7b8f-4435-fa93-7490d41d259d"
      },
      "source": [
        "!python setup.py install"
      ],
      "execution_count": 4,
      "outputs": [
        {
          "output_type": "stream",
          "text": [
            "running install\n",
            "running bdist_egg\n",
            "running egg_info\n",
            "creating torchlight.egg-info\n",
            "writing torchlight.egg-info/PKG-INFO\n",
            "writing dependency_links to torchlight.egg-info/dependency_links.txt\n",
            "writing top-level names to torchlight.egg-info/top_level.txt\n",
            "writing manifest file 'torchlight.egg-info/SOURCES.txt'\n",
            "writing manifest file 'torchlight.egg-info/SOURCES.txt'\n",
            "installing library code to build/bdist.linux-x86_64/egg\n",
            "running install_lib\n",
            "running build_py\n",
            "creating build\n",
            "creating build/lib\n",
            "creating build/lib/torchlight\n",
            "copying torchlight/io.py -> build/lib/torchlight\n",
            "copying torchlight/__init__.py -> build/lib/torchlight\n",
            "copying torchlight/gpu.py -> build/lib/torchlight\n",
            "creating build/bdist.linux-x86_64\n",
            "creating build/bdist.linux-x86_64/egg\n",
            "creating build/bdist.linux-x86_64/egg/torchlight\n",
            "copying build/lib/torchlight/io.py -> build/bdist.linux-x86_64/egg/torchlight\n",
            "copying build/lib/torchlight/__init__.py -> build/bdist.linux-x86_64/egg/torchlight\n",
            "copying build/lib/torchlight/gpu.py -> build/bdist.linux-x86_64/egg/torchlight\n",
            "byte-compiling build/bdist.linux-x86_64/egg/torchlight/io.py to io.cpython-36.pyc\n",
            "byte-compiling build/bdist.linux-x86_64/egg/torchlight/__init__.py to __init__.cpython-36.pyc\n",
            "byte-compiling build/bdist.linux-x86_64/egg/torchlight/gpu.py to gpu.cpython-36.pyc\n",
            "creating build/bdist.linux-x86_64/egg/EGG-INFO\n",
            "copying torchlight.egg-info/PKG-INFO -> build/bdist.linux-x86_64/egg/EGG-INFO\n",
            "copying torchlight.egg-info/SOURCES.txt -> build/bdist.linux-x86_64/egg/EGG-INFO\n",
            "copying torchlight.egg-info/dependency_links.txt -> build/bdist.linux-x86_64/egg/EGG-INFO\n",
            "copying torchlight.egg-info/top_level.txt -> build/bdist.linux-x86_64/egg/EGG-INFO\n",
            "zip_safe flag not set; analyzing archive contents...\n",
            "creating dist\n",
            "creating 'dist/torchlight-1.0-py3.6.egg' and adding 'build/bdist.linux-x86_64/egg' to it\n",
            "removing 'build/bdist.linux-x86_64/egg' (and everything under it)\n",
            "Processing torchlight-1.0-py3.6.egg\n",
            "Copying torchlight-1.0-py3.6.egg to /usr/local/lib/python3.6/dist-packages\n",
            "Adding torchlight 1.0 to easy-install.pth file\n",
            "\n",
            "Installed /usr/local/lib/python3.6/dist-packages/torchlight-1.0-py3.6.egg\n",
            "Processing dependencies for torchlight==1.0\n",
            "Finished processing dependencies for torchlight==1.0\n"
          ],
          "name": "stdout"
        }
      ]
    },
    {
      "cell_type": "code",
      "metadata": {
        "id": "NgveiexhcctG",
        "colab_type": "code",
        "colab": {
          "base_uri": "https://localhost:8080/",
          "height": 35
        },
        "outputId": "a614f735-4626-4ad2-c4d8-3912e68c408e"
      },
      "source": [
        "cd .."
      ],
      "execution_count": 5,
      "outputs": [
        {
          "output_type": "stream",
          "text": [
            "/content/st-gcn\n"
          ],
          "name": "stdout"
        }
      ]
    },
    {
      "cell_type": "code",
      "metadata": {
        "id": "VMOd7FhccfIs",
        "colab_type": "code",
        "colab": {
          "base_uri": "https://localhost:8080/",
          "height": 829
        },
        "outputId": "145419e3-c5bc-4fd2-ca97-9aed37bd6efa"
      },
      "source": [
        "!bash tools/get_models.sh"
      ],
      "execution_count": 6,
      "outputs": [
        {
          "output_type": "stream",
          "text": [
            "--2020-07-11 10:41:30--  https://open-mmlab.s3.ap-northeast-2.amazonaws.com/mmskeleton/models/st-gcn/st_gcn.kinetics.pt\n",
            "Resolving open-mmlab.s3.ap-northeast-2.amazonaws.com (open-mmlab.s3.ap-northeast-2.amazonaws.com)... 52.219.58.87\n",
            "Connecting to open-mmlab.s3.ap-northeast-2.amazonaws.com (open-mmlab.s3.ap-northeast-2.amazonaws.com)|52.219.58.87|:443... connected.\n",
            "HTTP request sent, awaiting response... 200 OK\n",
            "Length: 12763702 (12M) [binary/octet-stream]\n",
            "Saving to: ‘models/st_gcn.kinetics.pt’\n",
            "\n",
            "models/st_gcn.kinet 100%[===================>]  12.17M  6.46MB/s    in 1.9s    \n",
            "\n",
            "2020-07-11 10:41:32 (6.46 MB/s) - ‘models/st_gcn.kinetics.pt’ saved [12763702/12763702]\n",
            "\n",
            "--2020-07-11 10:41:32--  https://open-mmlab.s3.ap-northeast-2.amazonaws.com/mmskeleton/models/st-gcn/st_gcn.ntu-xview.pt\n",
            "Resolving open-mmlab.s3.ap-northeast-2.amazonaws.com (open-mmlab.s3.ap-northeast-2.amazonaws.com)... 52.219.58.156\n",
            "Connecting to open-mmlab.s3.ap-northeast-2.amazonaws.com (open-mmlab.s3.ap-northeast-2.amazonaws.com)|52.219.58.156|:443... connected.\n",
            "HTTP request sent, awaiting response... 200 OK\n",
            "Length: 12454245 (12M) [binary/octet-stream]\n",
            "Saving to: ‘models/st_gcn.ntu-xview.pt’\n",
            "\n",
            "models/st_gcn.ntu-x 100%[===================>]  11.88M  6.82MB/s    in 1.7s    \n",
            "\n",
            "2020-07-11 10:41:35 (6.82 MB/s) - ‘models/st_gcn.ntu-xview.pt’ saved [12454245/12454245]\n",
            "\n",
            "--2020-07-11 10:41:35--  https://open-mmlab.s3.ap-northeast-2.amazonaws.com/mmskeleton/models/st-gcn/st_gcn.ntu-xsub.pt\n",
            "Resolving open-mmlab.s3.ap-northeast-2.amazonaws.com (open-mmlab.s3.ap-northeast-2.amazonaws.com)... 52.219.60.59\n",
            "Connecting to open-mmlab.s3.ap-northeast-2.amazonaws.com (open-mmlab.s3.ap-northeast-2.amazonaws.com)|52.219.60.59|:443... connected.\n",
            "HTTP request sent, awaiting response... 200 OK\n",
            "Length: 12454245 (12M) [binary/octet-stream]\n",
            "Saving to: ‘models/st_gcn.ntu-xsub.pt’\n",
            "\n",
            "models/st_gcn.ntu-x 100%[===================>]  11.88M  6.90MB/s    in 1.7s    \n",
            "\n",
            "2020-07-11 10:41:38 (6.90 MB/s) - ‘models/st_gcn.ntu-xsub.pt’ saved [12454245/12454245]\n",
            "\n",
            "--2020-07-11 10:41:38--  http://posefs1.perception.cs.cmu.edu/OpenPose/models/pose/coco/pose_iter_440000.caffemodel\n",
            "Resolving posefs1.perception.cs.cmu.edu (posefs1.perception.cs.cmu.edu)... 128.2.176.37\n",
            "Connecting to posefs1.perception.cs.cmu.edu (posefs1.perception.cs.cmu.edu)|128.2.176.37|:80... connected.\n",
            "HTTP request sent, awaiting response... 200 OK\n",
            "Length: 209274056 (200M) [text/plain]\n",
            "Saving to: ‘models/pose/coco/pose_iter_440000.caffemodel’\n",
            "\n",
            "pose_iter_440000.ca 100%[===================>] 199.58M  31.4MB/s    in 14s     \n",
            "\n",
            "2020-07-11 10:41:52 (14.0 MB/s) - ‘models/pose/coco/pose_iter_440000.caffemodel’ saved [209274056/209274056]\n",
            "\n"
          ],
          "name": "stdout"
        }
      ]
    },
    {
      "cell_type": "code",
      "metadata": {
        "id": "bbwwePtEeNwO",
        "colab_type": "code",
        "colab": {
          "base_uri": "https://localhost:8080/",
          "height": 35
        },
        "outputId": "981303d4-a09d-4563-f5a1-e0fefae4b320"
      },
      "source": [
        "cd .."
      ],
      "execution_count": 8,
      "outputs": [
        {
          "output_type": "stream",
          "text": [
            "/content\n"
          ],
          "name": "stdout"
        }
      ]
    },
    {
      "cell_type": "code",
      "metadata": {
        "id": "iDtv7zIneR6O",
        "colab_type": "code",
        "colab": {
          "base_uri": "https://localhost:8080/",
          "height": 143
        },
        "outputId": "dafd436f-9316-4022-f1de-4034380bf112"
      },
      "source": [
        "!git clone https://github.com/CMU-Perceptual-Computing-Lab/openpose.git"
      ],
      "execution_count": 9,
      "outputs": [
        {
          "output_type": "stream",
          "text": [
            "Cloning into 'openpose'...\n",
            "remote: Enumerating objects: 12, done.\u001b[K\n",
            "remote: Counting objects:   8% (1/12)\u001b[K\rremote: Counting objects:  16% (2/12)\u001b[K\rremote: Counting objects:  25% (3/12)\u001b[K\rremote: Counting objects:  33% (4/12)\u001b[K\rremote: Counting objects:  41% (5/12)\u001b[K\rremote: Counting objects:  50% (6/12)\u001b[K\rremote: Counting objects:  58% (7/12)\u001b[K\rremote: Counting objects:  66% (8/12)\u001b[K\rremote: Counting objects:  75% (9/12)\u001b[K\rremote: Counting objects:  83% (10/12)\u001b[K\rremote: Counting objects:  91% (11/12)\u001b[K\rremote: Counting objects: 100% (12/12)\u001b[K\rremote: Counting objects: 100% (12/12), done.\u001b[K\n",
            "remote: Compressing objects: 100% (12/12), done.\u001b[K\n",
            "remote: Total 22609 (delta 4), reused 0 (delta 0), pack-reused 22597\u001b[K\n",
            "Receiving objects: 100% (22609/22609), 84.52 MiB | 31.33 MiB/s, done.\n",
            "Resolving deltas: 100% (17745/17745), done.\n"
          ],
          "name": "stdout"
        }
      ]
    },
    {
      "cell_type": "code",
      "metadata": {
        "id": "T7lJc4K7eWh0",
        "colab_type": "code",
        "colab": {}
      },
      "source": [
        "YOUTUBE_ID = 'RXABo9hm8B8'"
      ],
      "execution_count": 11,
      "outputs": []
    },
    {
      "cell_type": "code",
      "metadata": {
        "id": "jKHE3yrgef-m",
        "colab_type": "code",
        "colab": {}
      },
      "source": [
        "from IPython.display import YouTubeVideo"
      ],
      "execution_count": 12,
      "outputs": []
    },
    {
      "cell_type": "code",
      "metadata": {
        "id": "WB3UxOZxfLE8",
        "colab_type": "code",
        "colab": {
          "base_uri": "https://localhost:8080/",
          "height": 127
        },
        "outputId": "8c0bd5e5-4fff-4f64-de63-23c8c08162f6"
      },
      "source": [
        "!pip install youtube-dl"
      ],
      "execution_count": 17,
      "outputs": [
        {
          "output_type": "stream",
          "text": [
            "Collecting youtube-dl\n",
            "\u001b[?25l  Downloading https://files.pythonhosted.org/packages/a4/5f/db1fb30596fbfabd3500e741cd9c73d0cb1d25387582fd21289bed05a9c2/youtube_dl-2020.6.16.1-py2.py3-none-any.whl (1.8MB)\n",
            "\u001b[K     |████████████████████████████████| 1.8MB 3.3MB/s \n",
            "\u001b[?25hInstalling collected packages: youtube-dl\n",
            "Successfully installed youtube-dl-2020.6.16.1\n"
          ],
          "name": "stdout"
        }
      ]
    },
    {
      "cell_type": "code",
      "metadata": {
        "id": "Ery8ck0tejhO",
        "colab_type": "code",
        "colab": {
          "base_uri": "https://localhost:8080/",
          "height": 320
        },
        "outputId": "c5afdc02-23c2-41fb-b41e-e24de7d192d2"
      },
      "source": [
        "YouTubeVideo(YOUTUBE_ID)"
      ],
      "execution_count": 13,
      "outputs": [
        {
          "output_type": "execute_result",
          "data": {
            "text/html": [
              "\n",
              "        <iframe\n",
              "            width=\"400\"\n",
              "            height=\"300\"\n",
              "            src=\"https://www.youtube.com/embed/RXABo9hm8B8\"\n",
              "            frameborder=\"0\"\n",
              "            allowfullscreen\n",
              "        ></iframe>\n",
              "        "
            ],
            "text/plain": [
              "<IPython.lib.display.YouTubeVideo at 0x7fb80509b710>"
            ],
            "image/jpeg": "[encoded data removed]"
          },
          "metadata": {
            "tags": []
          },
          "execution_count": 13
        }
      ]
    },
    {
      "cell_type": "code",
      "metadata": {
        "id": "8niqM3y1es99",
        "colab_type": "code",
        "colab": {}
      },
      "source": [
        "!rm -rf youtube.mp4"
      ],
      "execution_count": 15,
      "outputs": []
    },
    {
      "cell_type": "code",
      "metadata": {
        "id": "pFv6u8_se_V2",
        "colab_type": "code",
        "colab": {
          "base_uri": "https://localhost:8080/",
          "height": 71
        },
        "outputId": "aca388fd-2c30-4734-f8c8-8baf8431b937"
      },
      "source": [
        "!youtube-dl -f 'bestvideo[ext=mp4]' --output \"youtube.%(ext)s\" https://www.youtube.com/watch?v=$YOUTUBE_ID"
      ],
      "execution_count": 18,
      "outputs": [
        {
          "output_type": "stream",
          "text": [
            "[youtube] RXABo9hm8B8: Downloading webpage\n",
            "[download] Destination: youtube.mp4\n",
            "\u001b[K[download] 100% of 116.25MiB in 00:03\n"
          ],
          "name": "stdout"
        }
      ]
    },
    {
      "cell_type": "code",
      "metadata": {
        "id": "gBinYryjf7qW",
        "colab_type": "code",
        "colab": {
          "base_uri": "https://localhost:8080/",
          "height": 35
        },
        "outputId": "d582e27e-83ab-41b2-91f1-74618134adc7"
      },
      "source": [
        "cd st-gcn"
      ],
      "execution_count": 24,
      "outputs": [
        {
          "output_type": "stream",
          "text": [
            "/content/st-gcn\n"
          ],
          "name": "stdout"
        }
      ]
    },
    {
      "cell_type": "code",
      "metadata": {
        "id": "XSz8c1xzfxs9",
        "colab_type": "code",
        "colab": {
          "base_uri": "https://localhost:8080/",
          "height": 453
        },
        "outputId": "49b7fcde-3f6d-4ff2-cee9-731a13199ce4"
      },
      "source": [
        "!pip install -r requirements.txt"
      ],
      "execution_count": 25,
      "outputs": [
        {
          "output_type": "stream",
          "text": [
            "Requirement already satisfied: pyyaml in /usr/local/lib/python3.6/dist-packages (from -r requirements.txt (line 1)) (3.13)\n",
            "Collecting argparse\n",
            "  Downloading https://files.pythonhosted.org/packages/f2/94/3af39d34be01a24a6e65433d19e107099374224905f1e0cc6bbe1fd22a2f/argparse-1.4.0-py2.py3-none-any.whl\n",
            "Requirement already satisfied: numpy in /usr/local/lib/python3.6/dist-packages (from -r requirements.txt (line 3)) (1.18.5)\n",
            "Requirement already satisfied: h5py in /usr/local/lib/python3.6/dist-packages (from -r requirements.txt (line 4)) (2.10.0)\n",
            "Requirement already satisfied: opencv-python in /usr/local/lib/python3.6/dist-packages (from -r requirements.txt (line 5)) (4.1.2.30)\n",
            "Requirement already satisfied: imageio in /usr/local/lib/python3.6/dist-packages (from -r requirements.txt (line 6)) (2.4.1)\n",
            "Collecting scikit-video\n",
            "\u001b[?25l  Downloading https://files.pythonhosted.org/packages/b1/a6/c69cad508139a342810ae46e946ebb3256aa6e42f690d901bb68f50582e3/scikit_video-1.1.11-py2.py3-none-any.whl (2.3MB)\n",
            "\u001b[K     |████████████████████████████████| 2.3MB 5.0MB/s \n",
            "\u001b[?25hRequirement already satisfied: torch in /usr/local/lib/python3.6/dist-packages (from -r requirements.txt (line 8)) (1.5.1+cu101)\n",
            "Requirement already satisfied: torchvision in /usr/local/lib/python3.6/dist-packages (from -r requirements.txt (line 9)) (0.6.1+cu101)\n",
            "Requirement already satisfied: six in /usr/local/lib/python3.6/dist-packages (from h5py->-r requirements.txt (line 4)) (1.12.0)\n",
            "Requirement already satisfied: pillow in /usr/local/lib/python3.6/dist-packages (from imageio->-r requirements.txt (line 6)) (7.0.0)\n",
            "Requirement already satisfied: scipy in /usr/local/lib/python3.6/dist-packages (from scikit-video->-r requirements.txt (line 7)) (1.4.1)\n",
            "Requirement already satisfied: future in /usr/local/lib/python3.6/dist-packages (from torch->-r requirements.txt (line 8)) (0.16.0)\n",
            "Installing collected packages: argparse, scikit-video\n",
            "Successfully installed argparse-1.4.0 scikit-video-1.1.11\n"
          ],
          "name": "stdout"
        },
        {
          "output_type": "display_data",
          "data": {
            "application/vnd.colab-display-data+json": {
              "pip_warning": {
                "packages": [
                  "argparse"
                ]
              }
            }
          },
          "metadata": {
            "tags": []
          }
        }
      ]
    },
    {
      "cell_type": "code",
      "metadata": {
        "id": "POU3QZD4gMrW",
        "colab_type": "code",
        "colab": {
          "base_uri": "https://localhost:8080/",
          "height": 217
        },
        "outputId": "5f28426d-45e5-4da1-c23a-88638d697ee7"
      },
      "source": [
        "!pip install --ignore-installed PyYAML"
      ],
      "execution_count": 28,
      "outputs": [
        {
          "output_type": "stream",
          "text": [
            "Collecting PyYAML\n",
            "\u001b[?25l  Downloading https://files.pythonhosted.org/packages/64/c2/b80047c7ac2478f9501676c988a5411ed5572f35d1beff9cae07d321512c/PyYAML-5.3.1.tar.gz (269kB)\n",
            "\r\u001b[K     |█▏                              | 10kB 15.1MB/s eta 0:00:01\r\u001b[K     |██▍                             | 20kB 2.1MB/s eta 0:00:01\r\u001b[K     |███▋                            | 30kB 2.7MB/s eta 0:00:01\r\u001b[K     |████▉                           | 40kB 2.9MB/s eta 0:00:01\r\u001b[K     |██████                          | 51kB 2.4MB/s eta 0:00:01\r\u001b[K     |███████▎                        | 61kB 2.7MB/s eta 0:00:01\r\u001b[K     |████████▌                       | 71kB 3.0MB/s eta 0:00:01\r\u001b[K     |█████████▊                      | 81kB 3.2MB/s eta 0:00:01\r\u001b[K     |███████████                     | 92kB 3.5MB/s eta 0:00:01\r\u001b[K     |████████████▏                   | 102kB 3.4MB/s eta 0:00:01\r\u001b[K     |█████████████▍                  | 112kB 3.4MB/s eta 0:00:01\r\u001b[K     |██████████████▋                 | 122kB 3.4MB/s eta 0:00:01\r\u001b[K     |███████████████▉                | 133kB 3.4MB/s eta 0:00:01\r\u001b[K     |█████████████████               | 143kB 3.4MB/s eta 0:00:01\r\u001b[K     |██████████████████▎             | 153kB 3.4MB/s eta 0:00:01\r\u001b[K     |███████████████████▌            | 163kB 3.4MB/s eta 0:00:01\r\u001b[K     |████████████████████▊           | 174kB 3.4MB/s eta 0:00:01\r\u001b[K     |██████████████████████          | 184kB 3.4MB/s eta 0:00:01\r\u001b[K     |███████████████████████▏        | 194kB 3.4MB/s eta 0:00:01\r\u001b[K     |████████████████████████▎       | 204kB 3.4MB/s eta 0:00:01\r\u001b[K     |█████████████████████████▌      | 215kB 3.4MB/s eta 0:00:01\r\u001b[K     |██████████████████████████▊     | 225kB 3.4MB/s eta 0:00:01\r\u001b[K     |████████████████████████████    | 235kB 3.4MB/s eta 0:00:01\r\u001b[K     |█████████████████████████████▏  | 245kB 3.4MB/s eta 0:00:01\r\u001b[K     |██████████████████████████████▍ | 256kB 3.4MB/s eta 0:00:01\r\u001b[K     |███████████████████████████████▋| 266kB 3.4MB/s eta 0:00:01\r\u001b[K     |████████████████████████████████| 276kB 3.4MB/s \n",
            "\u001b[?25hBuilding wheels for collected packages: PyYAML\n",
            "  Building wheel for PyYAML (setup.py) ... \u001b[?25l\u001b[?25hdone\n",
            "  Created wheel for PyYAML: filename=PyYAML-5.3.1-cp36-cp36m-linux_x86_64.whl size=44621 sha256=30ae29953c6d82effb7c595478b922a892004f8c893a082189ab1f7d544528aa\n",
            "  Stored in directory: /root/.cache/pip/wheels/a7/c1/ea/cf5bd31012e735dc1dfea3131a2d5eae7978b251083d6247bd\n",
            "Successfully built PyYAML\n",
            "Installing collected packages: PyYAML\n",
            "Successfully installed PyYAML-5.3.1\n"
          ],
          "name": "stdout"
        }
      ]
    },
    {
      "cell_type": "code",
      "metadata": {
        "id": "X40n72AlfSH3",
        "colab_type": "code",
        "colab": {
          "base_uri": "https://localhost:8080/",
          "height": 143
        },
        "outputId": "f4e6b6de-49ce-4aa7-b073-d6fc6c32882c"
      },
      "source": [
        "!python /content/st-gcn/main.py demo_offline --video $'/content/youtube.mp4' --openpose $'/content/openpose'"
      ],
      "execution_count": 29,
      "outputs": [
        {
          "output_type": "stream",
          "text": [
            "Can not find Openpose Python API.\n",
            "Traceback (most recent call last):\n",
            "  File \"/content/st-gcn/main.py\", line 33, in <module>\n",
            "    p.start()\n",
            "  File \"/content/st-gcn/processor/demo_offline.py\", line 31, in start\n",
            "    video, data_numpy = self.pose_estimation()\n",
            "TypeError: 'NoneType' object is not iterable\n"
          ],
          "name": "stdout"
        }
      ]
    },
    {
      "cell_type": "code",
      "metadata": {
        "id": "lENvbWRMfpgZ",
        "colab_type": "code",
        "colab": {
          "base_uri": "https://localhost:8080/",
          "height": 35
        },
        "outputId": "631c552c-c8c9-4e85-edf2-71f95574ef7a"
      },
      "source": [
        "!pwd"
      ],
      "execution_count": 20,
      "outputs": [
        {
          "output_type": "stream",
          "text": [
            "/content\n"
          ],
          "name": "stdout"
        }
      ]
    }
  ]
}