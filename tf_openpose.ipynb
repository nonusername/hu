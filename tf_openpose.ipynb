{
  "nbformat": 4,
  "nbformat_minor": 0,
  "metadata": {
    "colab": {
      "name": "tf-openpose.ipynb",
      "provenance": [],
      "authorship_tag": "ABX9TyP/MABX+c6OFfjcqZItCeor",
      "include_colab_link": true
    },
    "kernelspec": {
      "name": "python3",
      "display_name": "Python 3"
    }
  },
  "cells": [
    {
      "cell_type": "markdown",
      "metadata": {
        "id": "view-in-github",
        "colab_type": "text"
      },
      "source": [
        "<a href=\"https://colab.research.google.com/github/nonusername/hu/blob/master/tf_openpose.ipynb\" target=\"_parent\"><img src=\"https://colab.research.google.com/assets/colab-badge.svg\" alt=\"Open In Colab\"/></a>"
      ]
    },
    {
      "cell_type": "code",
      "metadata": {
        "id": "b7YtNdvGX-R5",
        "colab_type": "code",
        "colab": {
          "base_uri": "https://localhost:8080/",
          "height": 125
        },
        "outputId": "6187b0c0-0f6f-49ef-8c3e-5320f2506969"
      },
      "source": [
        "!git clone https://www.github.com/ildoonet/tf-pose-estimation"
      ],
      "execution_count": 1,
      "outputs": [
        {
          "output_type": "stream",
          "text": [
            "Cloning into 'tf-pose-estimation'...\n",
            "warning: redirecting to https://github.com/ildoonet/tf-pose-estimation.git/\n",
            "remote: Enumerating objects: 1362, done.\u001b[K\n",
            "remote: Total 1362 (delta 0), reused 0 (delta 0), pack-reused 1362\n",
            "Receiving objects: 100% (1362/1362), 94.14 MiB | 38.43 MiB/s, done.\n",
            "Resolving deltas: 100% (729/729), done.\n"
          ],
          "name": "stdout"
        }
      ]
    },
    {
      "cell_type": "code",
      "metadata": {
        "id": "m8hwOV--YKLc",
        "colab_type": "code",
        "colab": {}
      },
      "source": [
        "cd tf-pose-estimation"
      ],
      "execution_count": null,
      "outputs": []
    },
    {
      "cell_type": "code",
      "metadata": {
        "id": "3yuvSWfNYKtv",
        "colab_type": "code",
        "colab": {}
      },
      "source": [
        "!pip3 install -r requirements.txt"
      ],
      "execution_count": null,
      "outputs": []
    },
    {
      "cell_type": "code",
      "metadata": {
        "id": "s8hUprEtYL-P",
        "colab_type": "code",
        "colab": {}
      },
      "source": [
        "!pip uninstall tensorflow"
      ],
      "execution_count": null,
      "outputs": []
    },
    {
      "cell_type": "code",
      "metadata": {
        "id": "QObxWQH9YNbS",
        "colab_type": "code",
        "colab": {}
      },
      "source": [
        "!pip install tensorflow==1.14.0"
      ],
      "execution_count": null,
      "outputs": []
    },
    {
      "cell_type": "code",
      "metadata": {
        "id": "cInGyoIvYPEX",
        "colab_type": "code",
        "colab": {}
      },
      "source": [
        "!apt-get install swig"
      ],
      "execution_count": null,
      "outputs": []
    },
    {
      "cell_type": "code",
      "metadata": {
        "id": "4Kxu3VF7YQL5",
        "colab_type": "code",
        "colab": {}
      },
      "source": [
        "cd tf_pose/pafprocess"
      ],
      "execution_count": null,
      "outputs": []
    },
    {
      "cell_type": "code",
      "metadata": {
        "id": "iVTOIuOAYRsQ",
        "colab_type": "code",
        "colab": {}
      },
      "source": [
        "!swig -python -c++ pafprocess.i && python3 setup.py build_ext --inplace"
      ],
      "execution_count": null,
      "outputs": []
    },
    {
      "cell_type": "code",
      "metadata": {
        "id": "XCeMixoKYTCQ",
        "colab_type": "code",
        "colab": {}
      },
      "source": [
        "!python /content/tf-pose-estimation/run_video.py --model=mobilenet_thin  --video=/content/tf-pose-estimation/video.avi"
      ],
      "execution_count": null,
      "outputs": []
    }
  ]
}